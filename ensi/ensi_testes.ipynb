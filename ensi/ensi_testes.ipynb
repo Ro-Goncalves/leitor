{
 "cells": [
  {
   "cell_type": "code",
   "execution_count": 1,
   "metadata": {},
   "outputs": [
    {
     "name": "stderr",
     "output_type": "stream",
     "text": [
      "u:\\Estudos\\Projetos\\leitor\\.venv\\Lib\\site-packages\\tqdm\\auto.py:21: TqdmWarning: IProgress not found. Please update jupyter and ipywidgets. See https://ipywidgets.readthedocs.io/en/stable/user_install.html\n",
      "  from .autonotebook import tqdm as notebook_tqdm\n"
     ]
    }
   ],
   "source": [
    "from llama_index.readers.docling import DoclingReader\n",
    "from llama_index.llms.gemini import Gemini\n",
    "import os\n",
    "from dotenv import load_dotenv"
   ]
  },
  {
   "cell_type": "code",
   "execution_count": 2,
   "metadata": {},
   "outputs": [],
   "source": [
    "load_dotenv()\n",
    "gemini = Gemini()\n",
    "converter = DoclingReader()"
   ]
  },
  {
   "cell_type": "code",
   "execution_count": 3,
   "metadata": {},
   "outputs": [],
   "source": [
    "artigo = \"033 - AI Hallucinations_A Misnomer Worth Clarifying\"\n",
    "\n",
    "caminho_pasta = os.path.join(os.getcwd(), 'assets', 'artigos')\n",
    "caminho_artigo = os.path.join(caminho_pasta, artigo + '.pdf')"
   ]
  },
  {
   "cell_type": "code",
   "execution_count": 4,
   "metadata": {},
   "outputs": [
    {
     "name": "stderr",
     "output_type": "stream",
     "text": [
      "Fetching 9 files: 100%|██████████| 9/9 [00:00<?, ?it/s]\n",
      "Neither CUDA nor MPS are available - defaulting to CPU. Note: This module is much faster with a GPU.\n"
     ]
    }
   ],
   "source": [
    "result = converter.load_data(caminho_artigo)"
   ]
  },
  {
   "cell_type": "code",
   "execution_count": 5,
   "metadata": {},
   "outputs": [],
   "source": [
    "texto_artigo = result[0].text"
   ]
  },
  {
   "cell_type": "code",
   "execution_count": 20,
   "metadata": {},
   "outputs": [],
   "source": [
    "prompt = f\"\"\"\n",
    "    <artigo>\n",
    "    {texto_artigo}\n",
    "    </artigo>\n",
    "\n",
    "    Você é um especialista em identificar os menus de artigos.\n",
    "    Sua tarefa é retornar todos os menus do <artigo>.\n",
    "    Os retorne em um formato de lista.\n",
    "    Não faça comentários, retorne somente a lista.\n",
    "\n",
    "    exemplo de retorno: [\"Menu Um\", \"Menu Dois\", \"Menu Três\"]\n",
    "\"\"\"\n",
    "lista_menus = gemini.complete(prompt)"
   ]
  },
  {
   "cell_type": "code",
   "execution_count": 21,
   "metadata": {},
   "outputs": [
    {
     "name": "stdout",
     "output_type": "stream",
     "text": [
      "[\"I. INTRODUCTION\", \"II. METHODOLOGY\", \"III. RESULT\", \"IV. DISCUSSION\", \"REFERENCES\", \"APPENDIX\"]\n"
     ]
    }
   ],
   "source": [
    "print(lista_menus)"
   ]
  }
 ],
 "metadata": {
  "kernelspec": {
   "display_name": ".venv",
   "language": "python",
   "name": "python3"
  },
  "language_info": {
   "codemirror_mode": {
    "name": "ipython",
    "version": 3
   },
   "file_extension": ".py",
   "mimetype": "text/x-python",
   "name": "python",
   "nbconvert_exporter": "python",
   "pygments_lexer": "ipython3",
   "version": "3.11.4"
  }
 },
 "nbformat": 4,
 "nbformat_minor": 2
}
